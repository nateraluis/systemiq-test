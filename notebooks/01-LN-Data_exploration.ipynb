{
 "cells": [
  {
   "cell_type": "markdown",
   "metadata": {},
   "source": [
    "# Data cleaning & merging\n",
    "## Luis Natera\n",
    "natera@hey.com"
   ]
  },
  {
   "cell_type": "markdown",
   "metadata": {},
   "source": [
    "## Library imports\n",
    "\n",
    "For the data cleanning and manipulation section I will use pandas and matplotlib for the visualizations."
   ]
  },
  {
   "cell_type": "code",
   "execution_count": 71,
   "metadata": {},
   "outputs": [],
   "source": [
    "import pandas as pd\n",
    "import matplotlib.pyplot as plt\n",
    "%matplotlib inline"
   ]
  },
  {
   "cell_type": "markdown",
   "metadata": {},
   "source": [
    "## 1. Please load the users and activity tables into Python.\n",
    "\n",
    "a. How many variables are in the datasets?\n",
    "\n",
    "b. How many observations are in the datasets?\n"
   ]
  },
  {
   "cell_type": "code",
   "execution_count": 72,
   "metadata": {},
   "outputs": [],
   "source": [
    "df_activites = pd.read_csv('../data/raw/activities.csv')\n",
    "df_users = pd.read_csv('../data/raw/users.csv')"
   ]
  },
  {
   "cell_type": "code",
   "execution_count": 73,
   "metadata": {},
   "outputs": [
    {
     "name": "stdout",
     "output_type": "stream",
     "text": [
      "The dataset activities has 22642 observations, and there are 3 variables, such variables are: ['UserId' 'Date' 'Revenue']     and the types of data are:\n",
      "UserId       int64\n",
      "Date        object\n",
      "Revenue    float64\n",
      "dtype: object\n",
      "\n",
      "The dataset users has 5807 observations, and there are 5 variables, such variables are: ['UserId' 'Country' 'DOB' 'Gender' 'RegDate']     and the types of data are:\n",
      "UserId      int64\n",
      "Country    object\n",
      "DOB        object\n",
      "Gender     object\n",
      "RegDate    object\n",
      "dtype: object\n",
      "\n"
     ]
    }
   ],
   "source": [
    "for df, name in zip([df_activites,df_users],['activities','users']):\n",
    "    print(f'The dataset {name} has {len(df)} observations, and there are {len(df.columns)} variables, such variables are: {df.columns.values}\\\n",
    "     and the types of data are:\\n{df.dtypes}\\n')"
   ]
  },
  {
   "cell_type": "markdown",
   "metadata": {},
   "source": [
    "## 2. How many:\n",
    "a. Male users are in the dataset?\n",
    "\n",
    "b. Female users are in the dataset?\n",
    "\n",
    "c. For how many users is no gender information available?\n"
   ]
  },
  {
   "cell_type": "code",
   "execution_count": 74,
   "metadata": {},
   "outputs": [
    {
     "name": "stdout",
     "output_type": "stream",
     "text": [
      "There are:\n",
      "    + 2909 Male users\n",
      "    + 1417 Female users\n",
      "    + 1481 Users withouth gender information\n"
     ]
    }
   ],
   "source": [
    "df_gender = pd.DataFrame(df_users.groupby('Gender').count().rename(columns={'UserId':'Users'})['Users'])\n",
    "print(f\"There are:\\n    + {df_gender.at['M','Users']} Male users\\n    + {df_gender.at['F','Users']} Female users\\n    + {df_gender.at[' ','Users']} Users withouth gender information\")"
   ]
  },
  {
   "cell_type": "markdown",
   "metadata": {},
   "source": [
    "If there is no gender information available, please assume that the gender is male (“M”) for all further questions."
   ]
  },
  {
   "cell_type": "code",
   "execution_count": 75,
   "metadata": {},
   "outputs": [],
   "source": [
    "#Replace the empty values to M\n",
    "df_users['Gender'] = df_users['Gender'].replace(r'^\\s*$', 'M', regex=True)"
   ]
  },
  {
   "cell_type": "code",
   "execution_count": 85,
   "metadata": {},
   "outputs": [],
   "source": [
    "df = df_activites.merge(df_users, left_on='UserId',right_on='UserId',how='outer')"
   ]
  },
  {
   "cell_type": "markdown",
   "metadata": {},
   "source": [
    "## Merge the two datasets and:\n",
    "\n",
    "- Calculate the days since registration for each activity.\n",
    "- What is the total mean and median revenue generated per user (ie across all activities)? \n",
    "- How do you interpret the result?"
   ]
  },
  {
   "cell_type": "code",
   "execution_count": 103,
   "metadata": {},
   "outputs": [
    {
     "name": "stdout",
     "output_type": "stream",
     "text": [
      "There are 0 users without activities\n"
     ]
    }
   ],
   "source": [
    "print(f\"There are {len(df) - len(df.dropna(subset=['Date','Revenue']))} users without activities\")\n",
    "df = df.dropna(subset=['Date','Revenue'])"
   ]
  },
  {
   "cell_type": "markdown",
   "metadata": {},
   "source": [
    "### Days since registration. \n",
    "To calculate them I substract the registration date from the activity date."
   ]
  },
  {
   "cell_type": "code",
   "execution_count": 106,
   "metadata": {},
   "outputs": [
    {
     "data": {
      "text/html": [
       "<div>\n",
       "<style scoped>\n",
       "    .dataframe tbody tr th:only-of-type {\n",
       "        vertical-align: middle;\n",
       "    }\n",
       "\n",
       "    .dataframe tbody tr th {\n",
       "        vertical-align: top;\n",
       "    }\n",
       "\n",
       "    .dataframe thead th {\n",
       "        text-align: right;\n",
       "    }\n",
       "</style>\n",
       "<table border=\"1\" class=\"dataframe\">\n",
       "  <thead>\n",
       "    <tr style=\"text-align: right;\">\n",
       "      <th></th>\n",
       "      <th>UserId</th>\n",
       "      <th>Date</th>\n",
       "      <th>Revenue</th>\n",
       "      <th>Country</th>\n",
       "      <th>DOB</th>\n",
       "      <th>Gender</th>\n",
       "      <th>RegDate</th>\n",
       "      <th>days_since_reg</th>\n",
       "    </tr>\n",
       "  </thead>\n",
       "  <tbody>\n",
       "    <tr>\n",
       "      <th>0</th>\n",
       "      <td>1326865</td>\n",
       "      <td>2017-02-19</td>\n",
       "      <td>17.05</td>\n",
       "      <td>DE</td>\n",
       "      <td>1988-05-04</td>\n",
       "      <td>M</td>\n",
       "      <td>2016-03-24</td>\n",
       "      <td>332 days</td>\n",
       "    </tr>\n",
       "    <tr>\n",
       "      <th>1</th>\n",
       "      <td>1326865</td>\n",
       "      <td>2017-02-28</td>\n",
       "      <td>17.05</td>\n",
       "      <td>DE</td>\n",
       "      <td>1988-05-04</td>\n",
       "      <td>M</td>\n",
       "      <td>2016-03-24</td>\n",
       "      <td>341 days</td>\n",
       "    </tr>\n",
       "    <tr>\n",
       "      <th>2</th>\n",
       "      <td>1326865</td>\n",
       "      <td>2017-03-06</td>\n",
       "      <td>17.16</td>\n",
       "      <td>DE</td>\n",
       "      <td>1988-05-04</td>\n",
       "      <td>M</td>\n",
       "      <td>2016-03-24</td>\n",
       "      <td>347 days</td>\n",
       "    </tr>\n",
       "    <tr>\n",
       "      <th>3</th>\n",
       "      <td>1326865</td>\n",
       "      <td>2017-03-07</td>\n",
       "      <td>17.16</td>\n",
       "      <td>DE</td>\n",
       "      <td>1988-05-04</td>\n",
       "      <td>M</td>\n",
       "      <td>2016-03-24</td>\n",
       "      <td>348 days</td>\n",
       "    </tr>\n",
       "    <tr>\n",
       "      <th>4</th>\n",
       "      <td>1326865</td>\n",
       "      <td>2017-03-08</td>\n",
       "      <td>17.16</td>\n",
       "      <td>DE</td>\n",
       "      <td>1988-05-04</td>\n",
       "      <td>M</td>\n",
       "      <td>2016-03-24</td>\n",
       "      <td>349 days</td>\n",
       "    </tr>\n",
       "  </tbody>\n",
       "</table>\n",
       "</div>"
      ],
      "text/plain": [
       "    UserId       Date  Revenue Country         DOB Gender    RegDate  \\\n",
       "0  1326865 2017-02-19    17.05      DE  1988-05-04      M 2016-03-24   \n",
       "1  1326865 2017-02-28    17.05      DE  1988-05-04      M 2016-03-24   \n",
       "2  1326865 2017-03-06    17.16      DE  1988-05-04      M 2016-03-24   \n",
       "3  1326865 2017-03-07    17.16      DE  1988-05-04      M 2016-03-24   \n",
       "4  1326865 2017-03-08    17.16      DE  1988-05-04      M 2016-03-24   \n",
       "\n",
       "  days_since_reg  \n",
       "0       332 days  \n",
       "1       341 days  \n",
       "2       347 days  \n",
       "3       348 days  \n",
       "4       349 days  "
      ]
     },
     "execution_count": 106,
     "metadata": {},
     "output_type": "execute_result"
    }
   ],
   "source": [
    "df.loc[:,'Date'] = pd.to_datetime(df['Date'])\n",
    "df.loc[:,'RegDate'] = pd.to_datetime(df['RegDate'])\n",
    "df.loc[:,'days_since_reg'] = df.Date - df.RegDate\n",
    "df.head(5)"
   ]
  },
  {
   "cell_type": "markdown",
   "metadata": {},
   "source": [
    "## Revenue by users\n",
    "Calculate the total, mean, and median revenue of users"
   ]
  },
  {
   "cell_type": "code",
   "execution_count": 119,
   "metadata": {},
   "outputs": [
    {
     "data": {
      "text/html": [
       "<div>\n",
       "<style scoped>\n",
       "    .dataframe tbody tr th:only-of-type {\n",
       "        vertical-align: middle;\n",
       "    }\n",
       "\n",
       "    .dataframe tbody tr th {\n",
       "        vertical-align: top;\n",
       "    }\n",
       "\n",
       "    .dataframe thead th {\n",
       "        text-align: right;\n",
       "    }\n",
       "</style>\n",
       "<table border=\"1\" class=\"dataframe\">\n",
       "  <thead>\n",
       "    <tr style=\"text-align: right;\">\n",
       "      <th></th>\n",
       "      <th>total</th>\n",
       "      <th>mean</th>\n",
       "      <th>median</th>\n",
       "    </tr>\n",
       "    <tr>\n",
       "      <th>UserId</th>\n",
       "      <th></th>\n",
       "      <th></th>\n",
       "      <th></th>\n",
       "    </tr>\n",
       "  </thead>\n",
       "  <tbody>\n",
       "    <tr>\n",
       "      <th>3200511</th>\n",
       "      <td>104917.00</td>\n",
       "      <td>2622.92</td>\n",
       "      <td>1765.00</td>\n",
       "    </tr>\n",
       "    <tr>\n",
       "      <th>3191433</th>\n",
       "      <td>101460.33</td>\n",
       "      <td>1719.67</td>\n",
       "      <td>1287.22</td>\n",
       "    </tr>\n",
       "    <tr>\n",
       "      <th>3320312</th>\n",
       "      <td>82190.12</td>\n",
       "      <td>622.65</td>\n",
       "      <td>373.76</td>\n",
       "    </tr>\n",
       "    <tr>\n",
       "      <th>3238560</th>\n",
       "      <td>61920.00</td>\n",
       "      <td>4763.08</td>\n",
       "      <td>3000.00</td>\n",
       "    </tr>\n",
       "    <tr>\n",
       "      <th>3217184</th>\n",
       "      <td>57700.00</td>\n",
       "      <td>1202.08</td>\n",
       "      <td>500.00</td>\n",
       "    </tr>\n",
       "    <tr>\n",
       "      <th>...</th>\n",
       "      <td>...</td>\n",
       "      <td>...</td>\n",
       "      <td>...</td>\n",
       "    </tr>\n",
       "    <tr>\n",
       "      <th>2983471</th>\n",
       "      <td>11.68</td>\n",
       "      <td>11.68</td>\n",
       "      <td>11.68</td>\n",
       "    </tr>\n",
       "    <tr>\n",
       "      <th>1862459</th>\n",
       "      <td>11.68</td>\n",
       "      <td>11.68</td>\n",
       "      <td>11.68</td>\n",
       "    </tr>\n",
       "    <tr>\n",
       "      <th>3141193</th>\n",
       "      <td>11.23</td>\n",
       "      <td>11.23</td>\n",
       "      <td>11.23</td>\n",
       "    </tr>\n",
       "    <tr>\n",
       "      <th>3199002</th>\n",
       "      <td>11.23</td>\n",
       "      <td>11.23</td>\n",
       "      <td>11.23</td>\n",
       "    </tr>\n",
       "    <tr>\n",
       "      <th>3001888</th>\n",
       "      <td>11.23</td>\n",
       "      <td>11.23</td>\n",
       "      <td>11.23</td>\n",
       "    </tr>\n",
       "  </tbody>\n",
       "</table>\n",
       "<p>5797 rows × 3 columns</p>\n",
       "</div>"
      ],
      "text/plain": [
       "             total     mean   median\n",
       "UserId                              \n",
       "3200511  104917.00  2622.92  1765.00\n",
       "3191433  101460.33  1719.67  1287.22\n",
       "3320312   82190.12   622.65   373.76\n",
       "3238560   61920.00  4763.08  3000.00\n",
       "3217184   57700.00  1202.08   500.00\n",
       "...            ...      ...      ...\n",
       "2983471      11.68    11.68    11.68\n",
       "1862459      11.68    11.68    11.68\n",
       "3141193      11.23    11.23    11.23\n",
       "3199002      11.23    11.23    11.23\n",
       "3001888      11.23    11.23    11.23\n",
       "\n",
       "[5797 rows x 3 columns]"
      ]
     },
     "execution_count": 119,
     "metadata": {},
     "output_type": "execute_result"
    }
   ],
   "source": [
    "df_user_revenue = pd.DataFrame()\n",
    "df_user_revenue['total'] =  df.groupby('UserId')['Revenue'].sum().round(2)\n",
    "df_user_revenue['mean'] =  df.groupby('UserId')['Revenue'].mean().round(2)\n",
    "df_user_revenue['median'] =  df.groupby('UserId')['Revenue'].median().round(2)\n",
    "df_user_revenue.sort_values('total',ascending=False)"
   ]
  },
  {
   "cell_type": "code",
   "execution_count": 125,
   "metadata": {},
   "outputs": [
    {
     "data": {
      "text/plain": [
       "<matplotlib.axes._subplots.AxesSubplot at 0x7ff198a676d0>"
      ]
     },
     "execution_count": 125,
     "metadata": {},
     "output_type": "execute_result"
    },
    {
     "data": {
      "image/png": "[encoded data removed]",
      "text/plain": [
       "<Figure size 432x288 with 1 Axes>"
      ]
     },
     "metadata": {
      "needs_background": "light"
     },
     "output_type": "display_data"
    }
   ],
   "source": [
    "df.groupby(['Country','Gender'])['Revenue'].sum().plot.bar()"
   ]
  },
  {
   "cell_type": "code",
   "execution_count": 120,
   "metadata": {},
   "outputs": [
    {
     "data": {
      "text/plain": [
       "<matplotlib.axes._subplots.AxesSubplot at 0x7ff19bd040a0>"
      ]
     },
     "execution_count": 120,
     "metadata": {},
     "output_type": "execute_result"
    },
    {
     "data": {
      "image/png": "[encoded data removed]",
      "text/plain": [
       "<Figure size 432x288 with 1 Axes>"
      ]
     },
     "metadata": {
      "needs_background": "light"
     },
     "output_type": "display_data"
    }
   ],
   "source": [
    "df_user_revenue['total'].hist()"
   ]
  },
  {
   "cell_type": "code",
   "execution_count": null,
   "metadata": {},
   "outputs": [],
   "source": []
  },
  {
   "cell_type": "code",
   "execution_count": null,
   "metadata": {},
   "outputs": [],
   "source": []
  }
 ],
 "metadata": {
  "kernelspec": {
   "display_name": "Python 3",
   "language": "python",
   "name": "python3"
  },
  "language_info": {
   "codemirror_mode": {
    "name": "ipython",
    "version": 3
   },
   "file_extension": ".py",
   "mimetype": "text/x-python",
   "name": "python",
   "nbconvert_exporter": "python",
   "pygments_lexer": "ipython3",
   "version": "3.8.6"
  }
 },
 "nbformat": 4,
 "nbformat_minor": 4
}
