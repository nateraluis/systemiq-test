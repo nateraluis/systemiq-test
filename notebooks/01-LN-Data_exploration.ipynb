{
 "cells": [
  {
   "cell_type": "markdown",
   "metadata": {},
   "source": [
    "# Data cleaning & merging\n",
    "## Luis Natera\n",
    "natera@hey.com"
   ]
  },
  {
   "cell_type": "markdown",
   "metadata": {},
   "source": [
    "## Library imports\n",
    "\n",
    "For the data cleanning and manipulation section I will use pandas and matplotlib for the visualizations."
   ]
  },
  {
   "cell_type": "code",
   "execution_count": 1,
   "metadata": {},
   "outputs": [],
   "source": [
    "import pandas as pd\n",
    "import numpy as np\n",
    "import matplotlib.pyplot as plt\n",
    "%matplotlib inline"
   ]
  },
  {
   "cell_type": "markdown",
   "metadata": {},
   "source": [
    "## 1. Please load the users and activity tables into Python.\n",
    "\n",
    "a. How many variables are in the datasets?\n",
    "\n",
    "b. How many observations are in the datasets?\n"
   ]
  },
  {
   "cell_type": "code",
   "execution_count": 2,
   "metadata": {},
   "outputs": [],
   "source": [
    "df_activites = pd.read_csv('../data/raw/activities.csv')\n",
    "df_users = pd.read_csv('../data/raw/users.csv')"
   ]
  },
  {
   "cell_type": "code",
   "execution_count": 3,
   "metadata": {},
   "outputs": [
    {
     "name": "stdout",
     "output_type": "stream",
     "text": [
      "The dataset activities has 22642 observations, and there are 3 variables, such variables are: ['UserId' 'Date' 'Revenue']     and the types of data are:\n",
      "UserId       int64\n",
      "Date        object\n",
      "Revenue    float64\n",
      "dtype: object\n",
      "\n",
      "The dataset users has 5807 observations, and there are 5 variables, such variables are: ['UserId' 'Country' 'DOB' 'Gender' 'RegDate']     and the types of data are:\n",
      "UserId      int64\n",
      "Country    object\n",
      "DOB        object\n",
      "Gender     object\n",
      "RegDate    object\n",
      "dtype: object\n",
      "\n"
     ]
    }
   ],
   "source": [
    "for df, name in zip([df_activites,df_users],['activities','users']):\n",
    "    print(f'The dataset {name} has {len(df)} observations, and there are {len(df.columns)} variables, such variables are: {df.columns.values}\\\n",
    "     and the types of data are:\\n{df.dtypes}\\n')"
   ]
  },
  {
   "cell_type": "markdown",
   "metadata": {},
   "source": [
    "## 2. How many:\n",
    "a. Male users are in the dataset?\n",
    "\n",
    "b. Female users are in the dataset?\n",
    "\n",
    "c. For how many users is no gender information available?\n"
   ]
  },
  {
   "cell_type": "code",
   "execution_count": 4,
   "metadata": {},
   "outputs": [
    {
     "name": "stdout",
     "output_type": "stream",
     "text": [
      "There are:\n",
      "    + 2909 Male users\n",
      "    + 1417 Female users\n",
      "    + 1481 Users withouth gender information\n"
     ]
    }
   ],
   "source": [
    "df_gender = pd.DataFrame(df_users.groupby('Gender').count().rename(columns={'UserId':'Users'})['Users'])\n",
    "print(f\"There are:\\n    + {df_gender.at['M','Users']} Male users\\n    + {df_gender.at['F','Users']} Female users\\n    + {df_gender.at[' ','Users']} Users withouth gender information\")"
   ]
  },
  {
   "cell_type": "markdown",
   "metadata": {},
   "source": [
    "If there is no gender information available, please assume that the gender is male (“M”) for all further questions."
   ]
  },
  {
   "cell_type": "code",
   "execution_count": 5,
   "metadata": {},
   "outputs": [],
   "source": [
    "#Replace the empty values to M\n",
    "df_users['Gender'] = df_users['Gender'].replace(r'^\\s*$', 'M', regex=True)"
   ]
  },
  {
   "cell_type": "code",
   "execution_count": 6,
   "metadata": {},
   "outputs": [],
   "source": [
    "df = df_activites.merge(df_users, left_on='UserId',right_on='UserId',how='outer')"
   ]
  },
  {
   "cell_type": "markdown",
   "metadata": {},
   "source": [
    "## Merge the two datasets and:\n",
    "\n",
    "- Calculate the days since registration for each activity.\n",
    "- What is the total mean and median revenue generated per user (ie across all activities)? \n",
    "- How do you interpret the result?"
   ]
  },
  {
   "cell_type": "code",
   "execution_count": 7,
   "metadata": {},
   "outputs": [
    {
     "name": "stdout",
     "output_type": "stream",
     "text": [
      "There are 10 users without activities\n"
     ]
    }
   ],
   "source": [
    "print(f\"There are {len(df) - len(df.dropna(subset=['Date','Revenue']))} users without activities\")\n",
    "df = df.dropna(subset=['Date','Revenue'])"
   ]
  },
  {
   "cell_type": "markdown",
   "metadata": {},
   "source": [
    "### Days since registration. \n",
    "To calculate them I substract the registration date from the activity date."
   ]
  },
  {
   "cell_type": "code",
   "execution_count": 8,
   "metadata": {},
   "outputs": [
    {
     "data": {
      "text/html": [
       "<div>\n",
       "<style scoped>\n",
       "    .dataframe tbody tr th:only-of-type {\n",
       "        vertical-align: middle;\n",
       "    }\n",
       "\n",
       "    .dataframe tbody tr th {\n",
       "        vertical-align: top;\n",
       "    }\n",
       "\n",
       "    .dataframe thead th {\n",
       "        text-align: right;\n",
       "    }\n",
       "</style>\n",
       "<table border=\"1\" class=\"dataframe\">\n",
       "  <thead>\n",
       "    <tr style=\"text-align: right;\">\n",
       "      <th></th>\n",
       "      <th>UserId</th>\n",
       "      <th>Date</th>\n",
       "      <th>Revenue</th>\n",
       "      <th>Country</th>\n",
       "      <th>DOB</th>\n",
       "      <th>Gender</th>\n",
       "      <th>RegDate</th>\n",
       "      <th>days_since_reg</th>\n",
       "    </tr>\n",
       "  </thead>\n",
       "  <tbody>\n",
       "    <tr>\n",
       "      <th>0</th>\n",
       "      <td>1326865</td>\n",
       "      <td>2017-02-19</td>\n",
       "      <td>17.05</td>\n",
       "      <td>DE</td>\n",
       "      <td>1988-05-04</td>\n",
       "      <td>M</td>\n",
       "      <td>2016-03-24</td>\n",
       "      <td>332 days</td>\n",
       "    </tr>\n",
       "    <tr>\n",
       "      <th>1</th>\n",
       "      <td>1326865</td>\n",
       "      <td>2017-02-28</td>\n",
       "      <td>17.05</td>\n",
       "      <td>DE</td>\n",
       "      <td>1988-05-04</td>\n",
       "      <td>M</td>\n",
       "      <td>2016-03-24</td>\n",
       "      <td>341 days</td>\n",
       "    </tr>\n",
       "    <tr>\n",
       "      <th>2</th>\n",
       "      <td>1326865</td>\n",
       "      <td>2017-03-06</td>\n",
       "      <td>17.16</td>\n",
       "      <td>DE</td>\n",
       "      <td>1988-05-04</td>\n",
       "      <td>M</td>\n",
       "      <td>2016-03-24</td>\n",
       "      <td>347 days</td>\n",
       "    </tr>\n",
       "    <tr>\n",
       "      <th>3</th>\n",
       "      <td>1326865</td>\n",
       "      <td>2017-03-07</td>\n",
       "      <td>17.16</td>\n",
       "      <td>DE</td>\n",
       "      <td>1988-05-04</td>\n",
       "      <td>M</td>\n",
       "      <td>2016-03-24</td>\n",
       "      <td>348 days</td>\n",
       "    </tr>\n",
       "    <tr>\n",
       "      <th>4</th>\n",
       "      <td>1326865</td>\n",
       "      <td>2017-03-08</td>\n",
       "      <td>17.16</td>\n",
       "      <td>DE</td>\n",
       "      <td>1988-05-04</td>\n",
       "      <td>M</td>\n",
       "      <td>2016-03-24</td>\n",
       "      <td>349 days</td>\n",
       "    </tr>\n",
       "  </tbody>\n",
       "</table>\n",
       "</div>"
      ],
      "text/plain": [
       "    UserId       Date  Revenue Country         DOB Gender    RegDate  \\\n",
       "0  1326865 2017-02-19    17.05      DE  1988-05-04      M 2016-03-24   \n",
       "1  1326865 2017-02-28    17.05      DE  1988-05-04      M 2016-03-24   \n",
       "2  1326865 2017-03-06    17.16      DE  1988-05-04      M 2016-03-24   \n",
       "3  1326865 2017-03-07    17.16      DE  1988-05-04      M 2016-03-24   \n",
       "4  1326865 2017-03-08    17.16      DE  1988-05-04      M 2016-03-24   \n",
       "\n",
       "  days_since_reg  \n",
       "0       332 days  \n",
       "1       341 days  \n",
       "2       347 days  \n",
       "3       348 days  \n",
       "4       349 days  "
      ]
     },
     "execution_count": 8,
     "metadata": {},
     "output_type": "execute_result"
    }
   ],
   "source": [
    "df.loc[:,'Date'] = pd.to_datetime(df['Date'])\n",
    "df.loc[:,'RegDate'] = pd.to_datetime(df['RegDate'])\n",
    "df.loc[:,'days_since_reg'] = df.Date - df.RegDate\n",
    "df.head(5)"
   ]
  },
  {
   "cell_type": "markdown",
   "metadata": {},
   "source": [
    "## Revenue by users\n",
    "Calculate the total, mean, and median revenue of users"
   ]
  },
  {
   "cell_type": "code",
   "execution_count": 9,
   "metadata": {},
   "outputs": [
    {
     "data": {
      "text/html": [
       "<div>\n",
       "<style scoped>\n",
       "    .dataframe tbody tr th:only-of-type {\n",
       "        vertical-align: middle;\n",
       "    }\n",
       "\n",
       "    .dataframe tbody tr th {\n",
       "        vertical-align: top;\n",
       "    }\n",
       "\n",
       "    .dataframe thead th {\n",
       "        text-align: right;\n",
       "    }\n",
       "</style>\n",
       "<table border=\"1\" class=\"dataframe\">\n",
       "  <thead>\n",
       "    <tr style=\"text-align: right;\">\n",
       "      <th></th>\n",
       "      <th>total</th>\n",
       "      <th>mean</th>\n",
       "      <th>median</th>\n",
       "    </tr>\n",
       "    <tr>\n",
       "      <th>UserId</th>\n",
       "      <th></th>\n",
       "      <th></th>\n",
       "      <th></th>\n",
       "    </tr>\n",
       "  </thead>\n",
       "  <tbody>\n",
       "    <tr>\n",
       "      <th>3200511</th>\n",
       "      <td>104917.00</td>\n",
       "      <td>2622.92</td>\n",
       "      <td>1765.00</td>\n",
       "    </tr>\n",
       "    <tr>\n",
       "      <th>3191433</th>\n",
       "      <td>101460.33</td>\n",
       "      <td>1719.67</td>\n",
       "      <td>1287.22</td>\n",
       "    </tr>\n",
       "    <tr>\n",
       "      <th>3320312</th>\n",
       "      <td>82190.12</td>\n",
       "      <td>622.65</td>\n",
       "      <td>373.76</td>\n",
       "    </tr>\n",
       "    <tr>\n",
       "      <th>3238560</th>\n",
       "      <td>61920.00</td>\n",
       "      <td>4763.08</td>\n",
       "      <td>3000.00</td>\n",
       "    </tr>\n",
       "    <tr>\n",
       "      <th>3217184</th>\n",
       "      <td>57700.00</td>\n",
       "      <td>1202.08</td>\n",
       "      <td>500.00</td>\n",
       "    </tr>\n",
       "    <tr>\n",
       "      <th>3338504</th>\n",
       "      <td>52041.32</td>\n",
       "      <td>712.89</td>\n",
       "      <td>372.93</td>\n",
       "    </tr>\n",
       "    <tr>\n",
       "      <th>3174659</th>\n",
       "      <td>48874.59</td>\n",
       "      <td>3759.58</td>\n",
       "      <td>2450.00</td>\n",
       "    </tr>\n",
       "    <tr>\n",
       "      <th>3310071</th>\n",
       "      <td>34231.00</td>\n",
       "      <td>219.43</td>\n",
       "      <td>147.50</td>\n",
       "    </tr>\n",
       "    <tr>\n",
       "      <th>3319241</th>\n",
       "      <td>33506.00</td>\n",
       "      <td>138.45</td>\n",
       "      <td>90.00</td>\n",
       "    </tr>\n",
       "    <tr>\n",
       "      <th>3303405</th>\n",
       "      <td>27681.90</td>\n",
       "      <td>389.89</td>\n",
       "      <td>357.11</td>\n",
       "    </tr>\n",
       "    <tr>\n",
       "      <th>3210261</th>\n",
       "      <td>23554.75</td>\n",
       "      <td>2944.34</td>\n",
       "      <td>746.08</td>\n",
       "    </tr>\n",
       "    <tr>\n",
       "      <th>3253930</th>\n",
       "      <td>21888.00</td>\n",
       "      <td>177.95</td>\n",
       "      <td>120.00</td>\n",
       "    </tr>\n",
       "    <tr>\n",
       "      <th>3144295</th>\n",
       "      <td>21328.01</td>\n",
       "      <td>323.15</td>\n",
       "      <td>197.06</td>\n",
       "    </tr>\n",
       "    <tr>\n",
       "      <th>3256852</th>\n",
       "      <td>19240.08</td>\n",
       "      <td>1374.29</td>\n",
       "      <td>937.91</td>\n",
       "    </tr>\n",
       "    <tr>\n",
       "      <th>3337918</th>\n",
       "      <td>19188.68</td>\n",
       "      <td>618.99</td>\n",
       "      <td>438.90</td>\n",
       "    </tr>\n",
       "    <tr>\n",
       "      <th>3214801</th>\n",
       "      <td>18995.00</td>\n",
       "      <td>463.29</td>\n",
       "      <td>350.00</td>\n",
       "    </tr>\n",
       "    <tr>\n",
       "      <th>3173727</th>\n",
       "      <td>18837.73</td>\n",
       "      <td>232.56</td>\n",
       "      <td>174.66</td>\n",
       "    </tr>\n",
       "    <tr>\n",
       "      <th>3156200</th>\n",
       "      <td>18690.00</td>\n",
       "      <td>1099.41</td>\n",
       "      <td>600.00</td>\n",
       "    </tr>\n",
       "    <tr>\n",
       "      <th>3313787</th>\n",
       "      <td>17492.96</td>\n",
       "      <td>971.83</td>\n",
       "      <td>447.58</td>\n",
       "    </tr>\n",
       "    <tr>\n",
       "      <th>3285707</th>\n",
       "      <td>16908.31</td>\n",
       "      <td>307.42</td>\n",
       "      <td>162.32</td>\n",
       "    </tr>\n",
       "  </tbody>\n",
       "</table>\n",
       "</div>"
      ],
      "text/plain": [
       "             total     mean   median\n",
       "UserId                              \n",
       "3200511  104917.00  2622.92  1765.00\n",
       "3191433  101460.33  1719.67  1287.22\n",
       "3320312   82190.12   622.65   373.76\n",
       "3238560   61920.00  4763.08  3000.00\n",
       "3217184   57700.00  1202.08   500.00\n",
       "3338504   52041.32   712.89   372.93\n",
       "3174659   48874.59  3759.58  2450.00\n",
       "3310071   34231.00   219.43   147.50\n",
       "3319241   33506.00   138.45    90.00\n",
       "3303405   27681.90   389.89   357.11\n",
       "3210261   23554.75  2944.34   746.08\n",
       "3253930   21888.00   177.95   120.00\n",
       "3144295   21328.01   323.15   197.06\n",
       "3256852   19240.08  1374.29   937.91\n",
       "3337918   19188.68   618.99   438.90\n",
       "3214801   18995.00   463.29   350.00\n",
       "3173727   18837.73   232.56   174.66\n",
       "3156200   18690.00  1099.41   600.00\n",
       "3313787   17492.96   971.83   447.58\n",
       "3285707   16908.31   307.42   162.32"
      ]
     },
     "execution_count": 9,
     "metadata": {},
     "output_type": "execute_result"
    }
   ],
   "source": [
    "df_user_revenue = pd.DataFrame()\n",
    "df_user_revenue['total'] =  df.groupby('UserId')['Revenue'].sum().round(2)\n",
    "df_user_revenue['mean'] =  df.groupby('UserId')['Revenue'].mean().round(2)\n",
    "df_user_revenue['median'] =  df.groupby('UserId')['Revenue'].median().round(2)\n",
    "df_user_revenue.sort_values(['total','mean','median'],ascending=False, inplace=True)\n",
    "df_user_revenue.head(20)"
   ]
  },
  {
   "cell_type": "markdown",
   "metadata": {},
   "source": [
    "## How do you interpret the result?"
   ]
  },
  {
   "cell_type": "markdown",
   "metadata": {},
   "source": [
    "We can interpret the results to find users with revenue that has outliers. When comparing the mean with the median, if the distribution followed a normal distribution the mean and the median should be close to each other, however, in the data we can see that for certain users there is a difference between the mean and median values, meaning that they have some revenue that its affecting the distribution, outliers.\n",
    "\n",
    "This will be shown when plotting the distribution of revenues by users."
   ]
  },
  {
   "cell_type": "code",
   "execution_count": 10,
   "metadata": {},
   "outputs": [
    {
     "name": "stdout",
     "output_type": "stream",
     "text": [
      "When calculating the total, mean, and median of all the users (not only per user), we also observethat the distribution follow by all the revenue does not follow a normal distribution and that there will be outliers.\n",
      "The total revenue is: 2972067.49, the mean revenue is 131.26, and the median of the revenue is 40.0.\n"
     ]
    }
   ],
   "source": [
    "total = df['Revenue'].sum().round(2)\n",
    "mean = df['Revenue'].mean().round(2)\n",
    "median = df['Revenue'].median().round(2)\n",
    "print(f'When calculating the total, mean, and median of all the users (not only per user), we also observe\\\n",
    "that the distribution follow by all the revenue does not follow a normal distribution and that there will be outliers.\\n\\\n",
    "The total revenue is: {total}, the mean revenue is {mean}, and the median of the revenue is {median}.')"
   ]
  },
  {
   "cell_type": "markdown",
   "metadata": {},
   "source": [
    "## Visualise the distribution of the revenues by user"
   ]
  },
  {
   "cell_type": "code",
   "execution_count": 11,
   "metadata": {},
   "outputs": [
    {
     "data": {
      "image/png": "[encoded data removed]",
      "text/plain": [
       "<Figure size 720x720 with 1 Axes>"
      ]
     },
     "metadata": {
      "needs_background": "light"
     },
     "output_type": "display_data"
    }
   ],
   "source": [
    "hist, bins = np.histogram(df_user_revenue['total'],bins=30)\n",
    "fig, ax = plt.subplots(1,1, figsize=(10,10))\n",
    "ax.bar(bins[:-1],hist/sum(hist),10000,)\n",
    "ax.vlines(df_user_revenue['total'].mean(),0,1,color='red',linestyles='--')\n",
    "ax.set_yscale('log')\n",
    "ax.set_xlabel('Revenue')\n",
    "ax.set_ylabel('Percentage of users (log scale)');"
   ]
  },
  {
   "cell_type": "markdown",
   "metadata": {},
   "source": [
    "The revenue has a long tail distribution, where most of the users have a low revenue, while a couple of users have a high revenue. The red line indicates the mean of the revenue."
   ]
  },
  {
   "cell_type": "markdown",
   "metadata": {},
   "source": [
    "## What is the average week 1 revenue\n",
    "The revenue generated by the user in their first week (ie within the first 7 days since registration)?"
   ]
  },
  {
   "cell_type": "code",
   "execution_count": 12,
   "metadata": {},
   "outputs": [
    {
     "name": "stdout",
     "output_type": "stream",
     "text": [
      "The average week 1 revenue is 134.57\n"
     ]
    }
   ],
   "source": [
    "avg_week_rev = df[df['days_since_reg'] < pd.Timedelta(8, unit='days')]['Revenue'].mean().round(2)\n",
    "print(f'The average week 1 revenue is {avg_week_rev}')"
   ]
  },
  {
   "cell_type": "markdown",
   "metadata": {},
   "source": [
    "We can also calculate the total 1 week revenue and the average 1 week revenue per user and save it into our `df_user_revenue` dataframe."
   ]
  },
  {
   "cell_type": "code",
   "execution_count": 13,
   "metadata": {},
   "outputs": [],
   "source": [
    "df_ = pd.DataFrame(df[df['days_since_reg'] < pd.Timedelta(8, unit='days')].groupby('UserId')['Revenue'].mean()).rename(columns={'Revenue':'avg_1week_rev'})\n",
    "df_user_revenue = df_user_revenue.merge(df_,left_index=True,right_index=True,how='outer').fillna(0,axis=1)\n",
    "df_ = pd.DataFrame(df[df['days_since_reg'] < pd.Timedelta(8, unit='days')].groupby('UserId')['Revenue'].sum()).rename(columns={'Revenue':'total_1week_rev'})\n",
    "df_user_revenue = df_user_revenue.merge(df_,left_index=True,right_index=True,how='outer').fillna(0,axis=1)"
   ]
  },
  {
   "cell_type": "code",
   "execution_count": 14,
   "metadata": {},
   "outputs": [
    {
     "data": {
      "text/html": [
       "<div>\n",
       "<style scoped>\n",
       "    .dataframe tbody tr th:only-of-type {\n",
       "        vertical-align: middle;\n",
       "    }\n",
       "\n",
       "    .dataframe tbody tr th {\n",
       "        vertical-align: top;\n",
       "    }\n",
       "\n",
       "    .dataframe thead th {\n",
       "        text-align: right;\n",
       "    }\n",
       "</style>\n",
       "<table border=\"1\" class=\"dataframe\">\n",
       "  <thead>\n",
       "    <tr style=\"text-align: right;\">\n",
       "      <th></th>\n",
       "      <th>total</th>\n",
       "      <th>mean</th>\n",
       "      <th>median</th>\n",
       "      <th>avg_1week_rev</th>\n",
       "      <th>total_1week_rev</th>\n",
       "    </tr>\n",
       "    <tr>\n",
       "      <th>UserId</th>\n",
       "      <th></th>\n",
       "      <th></th>\n",
       "      <th></th>\n",
       "      <th></th>\n",
       "      <th></th>\n",
       "    </tr>\n",
       "  </thead>\n",
       "  <tbody>\n",
       "    <tr>\n",
       "      <th>3313597</th>\n",
       "      <td>10200.00</td>\n",
       "      <td>10200.00</td>\n",
       "      <td>10200.00</td>\n",
       "      <td>10200.00</td>\n",
       "      <td>10200.00</td>\n",
       "    </tr>\n",
       "    <tr>\n",
       "      <th>3285095</th>\n",
       "      <td>9805.59</td>\n",
       "      <td>9805.59</td>\n",
       "      <td>9805.59</td>\n",
       "      <td>9805.59</td>\n",
       "      <td>9805.59</td>\n",
       "    </tr>\n",
       "    <tr>\n",
       "      <th>3293547</th>\n",
       "      <td>8600.00</td>\n",
       "      <td>8600.00</td>\n",
       "      <td>8600.00</td>\n",
       "      <td>8600.00</td>\n",
       "      <td>8600.00</td>\n",
       "    </tr>\n",
       "    <tr>\n",
       "      <th>3217391</th>\n",
       "      <td>10020.00</td>\n",
       "      <td>5010.00</td>\n",
       "      <td>5010.00</td>\n",
       "      <td>5010.00</td>\n",
       "      <td>10020.00</td>\n",
       "    </tr>\n",
       "    <tr>\n",
       "      <th>3238560</th>\n",
       "      <td>61920.00</td>\n",
       "      <td>4763.08</td>\n",
       "      <td>3000.00</td>\n",
       "      <td>1500.00</td>\n",
       "      <td>3000.00</td>\n",
       "    </tr>\n",
       "    <tr>\n",
       "      <th>...</th>\n",
       "      <td>...</td>\n",
       "      <td>...</td>\n",
       "      <td>...</td>\n",
       "      <td>...</td>\n",
       "      <td>...</td>\n",
       "    </tr>\n",
       "    <tr>\n",
       "      <th>3285281</th>\n",
       "      <td>46.60</td>\n",
       "      <td>11.65</td>\n",
       "      <td>11.64</td>\n",
       "      <td>11.68</td>\n",
       "      <td>11.68</td>\n",
       "    </tr>\n",
       "    <tr>\n",
       "      <th>3166796</th>\n",
       "      <td>58.04</td>\n",
       "      <td>11.61</td>\n",
       "      <td>11.64</td>\n",
       "      <td>11.68</td>\n",
       "      <td>11.68</td>\n",
       "    </tr>\n",
       "    <tr>\n",
       "      <th>3001888</th>\n",
       "      <td>11.23</td>\n",
       "      <td>11.23</td>\n",
       "      <td>11.23</td>\n",
       "      <td>0.00</td>\n",
       "      <td>0.00</td>\n",
       "    </tr>\n",
       "    <tr>\n",
       "      <th>3141193</th>\n",
       "      <td>11.23</td>\n",
       "      <td>11.23</td>\n",
       "      <td>11.23</td>\n",
       "      <td>11.23</td>\n",
       "      <td>11.23</td>\n",
       "    </tr>\n",
       "    <tr>\n",
       "      <th>3199002</th>\n",
       "      <td>11.23</td>\n",
       "      <td>11.23</td>\n",
       "      <td>11.23</td>\n",
       "      <td>11.23</td>\n",
       "      <td>11.23</td>\n",
       "    </tr>\n",
       "  </tbody>\n",
       "</table>\n",
       "<p>5797 rows × 5 columns</p>\n",
       "</div>"
      ],
      "text/plain": [
       "            total      mean    median  avg_1week_rev  total_1week_rev\n",
       "UserId                                                               \n",
       "3313597  10200.00  10200.00  10200.00       10200.00         10200.00\n",
       "3285095   9805.59   9805.59   9805.59        9805.59          9805.59\n",
       "3293547   8600.00   8600.00   8600.00        8600.00          8600.00\n",
       "3217391  10020.00   5010.00   5010.00        5010.00         10020.00\n",
       "3238560  61920.00   4763.08   3000.00        1500.00          3000.00\n",
       "...           ...       ...       ...            ...              ...\n",
       "3285281     46.60     11.65     11.64          11.68            11.68\n",
       "3166796     58.04     11.61     11.64          11.68            11.68\n",
       "3001888     11.23     11.23     11.23           0.00             0.00\n",
       "3141193     11.23     11.23     11.23          11.23            11.23\n",
       "3199002     11.23     11.23     11.23          11.23            11.23\n",
       "\n",
       "[5797 rows x 5 columns]"
      ]
     },
     "execution_count": 14,
     "metadata": {},
     "output_type": "execute_result"
    }
   ],
   "source": [
    "df_user_revenue.sort_values(['mean','median'],ascending=False)"
   ]
  },
  {
   "cell_type": "markdown",
   "metadata": {},
   "source": [
    "## Save the data\n",
    "\n",
    "Now that we have cleaned and processed the data, we can save it into the `../data/processed/` folder, this way we can start working directly with the new data for the next steps of the assignment and still have the raw data saved."
   ]
  },
  {
   "cell_type": "code",
   "execution_count": 15,
   "metadata": {},
   "outputs": [],
   "source": [
    "df.to_csv('../data/processed/users_activities.csv')\n",
    "df_user_revenue.to_csv('../data/processed/user_revenue.csv')"
   ]
  },
  {
   "cell_type": "code",
   "execution_count": null,
   "metadata": {},
   "outputs": [],
   "source": []
  }
 ],
 "metadata": {
  "kernelspec": {
   "display_name": "Python 3",
   "language": "python",
   "name": "python3"
  },
  "language_info": {
   "codemirror_mode": {
    "name": "ipython",
    "version": 3
   },
   "file_extension": ".py",
   "mimetype": "text/x-python",
   "name": "python",
   "nbconvert_exporter": "python",
   "pygments_lexer": "ipython3",
   "version": "3.8.6"
  }
 },
 "nbformat": 4,
 "nbformat_minor": 4
}
