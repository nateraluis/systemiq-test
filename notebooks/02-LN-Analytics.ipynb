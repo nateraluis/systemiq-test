{
 "cells": [
  {
   "cell_type": "markdown",
   "metadata": {},
   "source": [
    "# Analytics\n",
    "## Luis Natera\n",
    "natera@hey.com"
   ]
  },
  {
   "cell_type": "markdown",
   "metadata": {},
   "source": [
    "## Library imports\n",
    "\n",
    "For the data cleanning and manipulation section I will use pandas, matplotlib for the visualizations, scipy for performing the comparison between groups."
   ]
  },
  {
   "cell_type": "code",
   "execution_count": 182,
   "metadata": {},
   "outputs": [],
   "source": [
    "import pandas as pd\n",
    "import matplotlib\n",
    "import matplotlib.pyplot as plt\n",
    "from scipy.stats import ttest_ind_from_stats\n",
    "import numpy as np\n",
    "from sklearn.linear_model import LinearRegression\n",
    "from sklearn.preprocessing import LabelEncoder\n",
    "\n",
    "%matplotlib inline"
   ]
  },
  {
   "cell_type": "code",
   "execution_count": 37,
   "metadata": {},
   "outputs": [],
   "source": [
    "df = pd.read_csv('../data/processed/users_activities.csv',index_col=0)\n",
    "df['days_since_reg'] = pd.to_timedelta(df['days_since_reg'])"
   ]
  },
  {
   "cell_type": "markdown",
   "metadata": {},
   "source": [
    "## In this dataset men generated a higher week 1 revenue than women, on average.\n",
    "\n",
    "1. Is this difference in revenue between men and women statistically significant?\n",
    "2. What is an appropriate statistical test to determine this and what is it's p-value"
   ]
  },
  {
   "cell_type": "markdown",
   "metadata": {},
   "source": [
    "To check the difference and determine if this is statistical significant we can use a ttest to compare the two distributions. But first we need to aggregate by the gender and the first week."
   ]
  },
  {
   "cell_type": "code",
   "execution_count": 40,
   "metadata": {},
   "outputs": [],
   "source": [
    "def get_df_revenue(df_week):\n",
    "    df_revenue = pd.DataFrame()\n",
    "    df_revenue['observations'] = df_week.groupby('Gender').count()['UserId']\n",
    "    df_revenue['mean_revenue'] = df_week.groupby('Gender')['Revenue'].mean()\n",
    "    df_revenue['std_revenue'] = df_week.groupby('Gender')['Revenue'].std()\n",
    "    return df_revenue"
   ]
  },
  {
   "cell_type": "code",
   "execution_count": 41,
   "metadata": {},
   "outputs": [
    {
     "data": {
      "text/plain": [
       "0.02134216828880289"
      ]
     },
     "execution_count": 41,
     "metadata": {},
     "output_type": "execute_result"
    }
   ],
   "source": [
    "df_week = df[df['days_since_reg'] < pd.Timedelta(7, unit='days')]\n",
    "df_revenue = get_df_revenue(df_week)\n",
    "\n",
    "tstat, pvalue = ttest_ind_from_stats(df_revenue.at['M','mean_revenue'], df_revenue.at['M','std_revenue'], df_revenue.at['M','observations'], df_revenue.at['F','mean_revenue'], df_revenue.at['F','std_revenue'], df_revenue.at['F','observations'])\n",
    "\n",
    "pvalue"
   ]
  },
  {
   "cell_type": "markdown",
   "metadata": {},
   "source": [
    "As the p-values is less than 0.05 (p-value = 0.021) we can say that the difference between the revenue by men and women is statistical significant."
   ]
  },
  {
   "cell_type": "markdown",
   "metadata": {},
   "source": [
    "## In which country is this difference biggest?"
   ]
  },
  {
   "cell_type": "code",
   "execution_count": 79,
   "metadata": {},
   "outputs": [
    {
     "data": {
      "text/html": [
       "<div>\n",
       "<style scoped>\n",
       "    .dataframe tbody tr th:only-of-type {\n",
       "        vertical-align: middle;\n",
       "    }\n",
       "\n",
       "    .dataframe tbody tr th {\n",
       "        vertical-align: top;\n",
       "    }\n",
       "\n",
       "    .dataframe thead th {\n",
       "        text-align: right;\n",
       "    }\n",
       "</style>\n",
       "<table border=\"1\" class=\"dataframe\">\n",
       "  <thead>\n",
       "    <tr style=\"text-align: right;\">\n",
       "      <th>Gender</th>\n",
       "      <th>F</th>\n",
       "      <th>M</th>\n",
       "      <th>difference</th>\n",
       "      <th>times_difference</th>\n",
       "    </tr>\n",
       "    <tr>\n",
       "      <th>Country</th>\n",
       "      <th></th>\n",
       "      <th></th>\n",
       "      <th></th>\n",
       "      <th></th>\n",
       "    </tr>\n",
       "  </thead>\n",
       "  <tbody>\n",
       "    <tr>\n",
       "      <th>GB</th>\n",
       "      <td>125557.29</td>\n",
       "      <td>356309.30</td>\n",
       "      <td>230752.01</td>\n",
       "      <td>2.837822</td>\n",
       "    </tr>\n",
       "    <tr>\n",
       "      <th>US</th>\n",
       "      <td>26926.68</td>\n",
       "      <td>143615.87</td>\n",
       "      <td>116689.19</td>\n",
       "      <td>5.333590</td>\n",
       "    </tr>\n",
       "    <tr>\n",
       "      <th>DE</th>\n",
       "      <td>18591.98</td>\n",
       "      <td>100383.13</td>\n",
       "      <td>81791.15</td>\n",
       "      <td>5.399271</td>\n",
       "    </tr>\n",
       "    <tr>\n",
       "      <th>FR</th>\n",
       "      <td>14183.16</td>\n",
       "      <td>88368.19</td>\n",
       "      <td>74185.03</td>\n",
       "      <td>6.230501</td>\n",
       "    </tr>\n",
       "    <tr>\n",
       "      <th>Other</th>\n",
       "      <td>14025.21</td>\n",
       "      <td>76329.92</td>\n",
       "      <td>62304.71</td>\n",
       "      <td>5.442337</td>\n",
       "    </tr>\n",
       "  </tbody>\n",
       "</table>\n",
       "</div>"
      ],
      "text/plain": [
       "Gender           F          M  difference  times_difference\n",
       "Country                                                    \n",
       "GB       125557.29  356309.30   230752.01          2.837822\n",
       "US        26926.68  143615.87   116689.19          5.333590\n",
       "DE        18591.98  100383.13    81791.15          5.399271\n",
       "FR        14183.16   88368.19    74185.03          6.230501\n",
       "Other     14025.21   76329.92    62304.71          5.442337"
      ]
     },
     "execution_count": 79,
     "metadata": {},
     "output_type": "execute_result"
    }
   ],
   "source": [
    "df_country = pd.DataFrame(df_week.groupby(['Country','Gender']).sum()['Revenue'].reset_index()).pivot(index='Country',columns=['Gender'],values=['Revenue'])\n",
    "df_country.columns = df_country.columns.get_level_values(1)\n",
    "df_country['difference'] = df_country['M'] - df_country['F']\n",
    "df_country['times_difference'] =  df_country['M'] / df_country['F']\n",
    "df_country.sort_values('difference',ascending=False)"
   ]
  },
  {
   "cell_type": "markdown",
   "metadata": {},
   "source": [
    "The biggest difference in absolute revenue is in GB, where males in week 1 made 23,0752.01 more than women. However, in France alotugh the absolute numbers are not as high as in GB, the difference between male and women is quite high, with males having a revenue 6.2 times larger than women."
   ]
  },
  {
   "cell_type": "markdown",
   "metadata": {},
   "source": [
    "## Please visualize the relationship between country, gender, and week 1 revenue with an appropriate chart."
   ]
  },
  {
   "cell_type": "code",
   "execution_count": null,
   "metadata": {},
   "outputs": [],
   "source": []
  },
  {
   "cell_type": "code",
   "execution_count": 104,
   "metadata": {},
   "outputs": [
    {
     "data": {
      "image/png": "[encoded data removed]",
      "text/plain": [
       "<Figure size 576x360 with 1 Axes>"
      ]
     },
     "metadata": {
      "needs_background": "light"
     },
     "output_type": "display_data"
    }
   ],
   "source": [
    "fig, ax = plt.subplots(1,1,figsize=(8,5))\n",
    "pd.DataFrame(df_week.groupby(['Country','Gender']).sum()['Revenue']).plot(kind='bar',ax=ax,color='#004B8C')\n",
    "ax.set_xlabel('Country and gender', fontsize=15)\n",
    "ax.set_ylabel('Week 1 revenue', fontsize=15)\n",
    "ax.get_yaxis().set_major_formatter(\n",
    "    matplotlib.ticker.FuncFormatter(lambda x, p: format(int(x), ',')))\n"
   ]
  },
  {
   "cell_type": "markdown",
   "metadata": {},
   "source": [
    "## Build a linear regression model to predict the week 1 revenue of a user based on the following variables:\n",
    "\n",
    "- Gender,\n",
    "- Age,\n",
    "- Country,\n",
    "- day 1 revenue (ie the revenue generated by the user on their registration date).\n",
    " \n",
    " Which of these variables have a statistically significant predictive power according to this model?"
   ]
  },
  {
   "cell_type": "markdown",
   "metadata": {},
   "source": [
    "### Get the necesary data.\n",
    "\n",
    "Use the users information and combine it with the revenue generated by the activities information to build the dataset that will be used for the model."
   ]
  },
  {
   "cell_type": "code",
   "execution_count": 151,
   "metadata": {},
   "outputs": [],
   "source": [
    "df_users = pd.read_csv('../data/raw/users.csv')\n",
    "df_users['Gender'] = df_users['Gender'].replace(r'^\\s*$', 'M', regex=True)\n",
    "df_users.loc[:,'DOB'] = pd.to_datetime(df_users['DOB'])\n",
    "now = pd.Timestamp('now')\n",
    "df_users['age'] = (now - df_users['DOB']).astype('<m8[Y]').astype(int)"
   ]
  },
  {
   "cell_type": "code",
   "execution_count": 187,
   "metadata": {},
   "outputs": [],
   "source": [
    "df_model = pd.DataFrame()\n",
    "df_model['Revenue_Week1'] = df_week.groupby(['UserId'])['Revenue'].sum()\n",
    "df_model['Day_1_revenue'] = df_week[df_week['days_since_reg'] < pd.Timedelta(1, unit='days')].groupby('UserId')['Revenue'].sum()\n",
    "df_model['Day_1_revenue'].fillna(0,inplace=True)\n",
    "df_model = df_model.merge(df_users,left_index=True,right_on='UserId')\n",
    "df_model = df_model[['Revenue_Week1','Gender','age','Country','Day_1_revenue']]\n",
    "\n",
    "LE_country = LabelEncoder()\n",
    "df_model['Country_code'] = LE.fit_transform(df_model['Country'])\n",
    "\n",
    "LE_Gender = LabelEncoder()\n",
    "df_model['Gender_code'] = LE.fit_transform(df_model['Gender'])"
   ]
  },
  {
   "cell_type": "code",
   "execution_count": 188,
   "metadata": {},
   "outputs": [],
   "source": [
    "X = df_model.drop(['Revenue_Week1','Gender','Country'],axis=1).values\n",
    "y = df_model['Revenue_Week1'].values"
   ]
  },
  {
   "cell_type": "code",
   "execution_count": 189,
   "metadata": {},
   "outputs": [
    {
     "data": {
      "text/plain": [
       "array([[35.  ,  0.  ,  2.  ,  0.  ],\n",
       "       [43.  ,  0.  ,  3.  ,  1.  ],\n",
       "       [53.  ,  0.  ,  2.  ,  1.  ],\n",
       "       ...,\n",
       "       [33.  , 30.  ,  2.  ,  1.  ],\n",
       "       [26.  , 17.05,  4.  ,  0.  ],\n",
       "       [27.  , 42.63,  4.  ,  1.  ]])"
      ]
     },
     "execution_count": 189,
     "metadata": {},
     "output_type": "execute_result"
    }
   ],
   "source": [
    "X"
   ]
  },
  {
   "cell_type": "code",
   "execution_count": 161,
   "metadata": {},
   "outputs": [
    {
     "data": {
      "text/plain": [
       "array([20.  , 29.19, 20.  , ..., 30.  , 17.05, 42.63])"
      ]
     },
     "execution_count": 161,
     "metadata": {},
     "output_type": "execute_result"
    }
   ],
   "source": [
    "y"
   ]
  },
  {
   "cell_type": "code",
   "execution_count": null,
   "metadata": {},
   "outputs": [],
   "source": []
  }
 ],
 "metadata": {
  "kernelspec": {
   "display_name": "Python 3",
   "language": "python",
   "name": "python3"
  },
  "language_info": {
   "codemirror_mode": {
    "name": "ipython",
    "version": 3
   },
   "file_extension": ".py",
   "mimetype": "text/x-python",
   "name": "python",
   "nbconvert_exporter": "python",
   "pygments_lexer": "ipython3",
   "version": "3.8.6"
  }
 },
 "nbformat": 4,
 "nbformat_minor": 4
}
